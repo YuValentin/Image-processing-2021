{
  "nbformat": 4,
  "nbformat_minor": 0,
  "metadata": {
    "colab": {
      "name": "Numpy.ipynb",
      "provenance": [],
      "collapsed_sections": [],
      "authorship_tag": "ABX9TyNY2H7Cu/Ob2gbcAUHasP1L",
      "include_colab_link": true
    },
    "kernelspec": {
      "name": "python3",
      "display_name": "Python 3"
    },
    "language_info": {
      "name": "python"
    }
  },
  "cells": [
    {
      "cell_type": "markdown",
      "metadata": {
        "id": "view-in-github",
        "colab_type": "text"
      },
      "source": [
        "<a href=\"https://colab.research.google.com/github/YuValentin/Image-processing-2021/blob/main/Numpy.ipynb\" target=\"_parent\"><img src=\"https://colab.research.google.com/assets/colab-badge.svg\" alt=\"Open In Colab\"/></a>"
      ]
    },
    {
      "cell_type": "code",
      "metadata": {
        "id": "9NtRMkxV_gfQ"
      },
      "source": [
        "import numpy as np\n",
        "import cv2\n",
        "from google.colab.patches import cv2_imshow"
      ],
      "execution_count": null,
      "outputs": []
    },
    {
      "cell_type": "markdown",
      "metadata": {
        "id": "fygrWIFrfati"
      },
      "source": [
        "#1. Створити двомірний нульовий масив розміром 11х11 та заповнити його діагоналі одиницями."
      ]
    },
    {
      "cell_type": "code",
      "metadata": {
        "id": "K7EbvySscIQ_"
      },
      "source": [
        "size = 11"
      ],
      "execution_count": null,
      "outputs": []
    },
    {
      "cell_type": "code",
      "metadata": {
        "id": "aFASfi4mdm58"
      },
      "source": [
        "arr = np.zeros((size,size),dtype=int)"
      ],
      "execution_count": null,
      "outputs": []
    },
    {
      "cell_type": "code",
      "metadata": {
        "colab": {
          "base_uri": "https://localhost:8080/"
        },
        "id": "igSHV-Xed7eK",
        "outputId": "0a0f9867-ddb1-4fec-cd47-ae80c1475c89"
      },
      "source": [
        "for i in range(size):\n",
        "\tfor j in range(size):\n",
        "\t\tif (i == j ):\n",
        "\t\t\tarr[i][j] = 1\n",
        "\n",
        "print(arr)"
      ],
      "execution_count": null,
      "outputs": [
        {
          "output_type": "stream",
          "text": [
            "[[1 0 0 0 0 0 0 0 0 0 0]\n",
            " [0 1 0 0 0 0 0 0 0 0 0]\n",
            " [0 0 1 0 0 0 0 0 0 0 0]\n",
            " [0 0 0 1 0 0 0 0 0 0 0]\n",
            " [0 0 0 0 1 0 0 0 0 0 0]\n",
            " [0 0 0 0 0 1 0 0 0 0 0]\n",
            " [0 0 0 0 0 0 1 0 0 0 0]\n",
            " [0 0 0 0 0 0 0 1 0 0 0]\n",
            " [0 0 0 0 0 0 0 0 1 0 0]\n",
            " [0 0 0 0 0 0 0 0 0 1 0]\n",
            " [0 0 0 0 0 0 0 0 0 0 1]]\n"
          ],
          "name": "stdout"
        }
      ]
    },
    {
      "cell_type": "code",
      "metadata": {
        "colab": {
          "base_uri": "https://localhost:8080/"
        },
        "id": "Mj8r09A8ljFD",
        "outputId": "e71b7e74-5212-41d4-8df3-c5eb4b80026f"
      },
      "source": [
        "print(np.eye(size,dtype=int))"
      ],
      "execution_count": null,
      "outputs": [
        {
          "output_type": "stream",
          "text": [
            "[[1 0 0 0 0 0 0 0 0 0 0]\n",
            " [0 1 0 0 0 0 0 0 0 0 0]\n",
            " [0 0 1 0 0 0 0 0 0 0 0]\n",
            " [0 0 0 1 0 0 0 0 0 0 0]\n",
            " [0 0 0 0 1 0 0 0 0 0 0]\n",
            " [0 0 0 0 0 1 0 0 0 0 0]\n",
            " [0 0 0 0 0 0 1 0 0 0 0]\n",
            " [0 0 0 0 0 0 0 1 0 0 0]\n",
            " [0 0 0 0 0 0 0 0 1 0 0]\n",
            " [0 0 0 0 0 0 0 0 0 1 0]\n",
            " [0 0 0 0 0 0 0 0 0 0 1]]\n"
          ],
          "name": "stdout"
        }
      ]
    },
    {
      "cell_type": "markdown",
      "metadata": {
        "id": "u0Wy3G6QnyVA"
      },
      "source": [
        "#2. Засобами NumPy створити вертикальні та горизонтальні зображення градієнту в обидва боки (поступове збільшення яскравості на зображенні)."
      ]
    },
    {
      "cell_type": "code",
      "metadata": {
        "id": "ZRVxJvVNp3wQ"
      },
      "source": [
        "size=255"
      ],
      "execution_count": null,
      "outputs": []
    },
    {
      "cell_type": "code",
      "metadata": {
        "id": "BNwKW6Ysnz09"
      },
      "source": [
        "horizontal_gradient1 = np.zeros((size,size),dtype=float)"
      ],
      "execution_count": null,
      "outputs": []
    },
    {
      "cell_type": "code",
      "metadata": {
        "colab": {
          "base_uri": "https://localhost:8080/"
        },
        "id": "TF_Ta390pFyt",
        "outputId": "ecd79ef3-124b-4f79-9b9a-7d4b84b0991b"
      },
      "source": [
        "w,h = horizontal_gradient1.shape\n",
        "print(w,h)"
      ],
      "execution_count": null,
      "outputs": [
        {
          "output_type": "stream",
          "text": [
            "255 255\n"
          ],
          "name": "stdout"
        }
      ]
    },
    {
      "cell_type": "code",
      "metadata": {
        "id": "T5FdlfgM086J"
      },
      "source": [
        "horizontal_gradient2 = horizontal_gradient1.copy()"
      ],
      "execution_count": null,
      "outputs": []
    },
    {
      "cell_type": "code",
      "metadata": {
        "colab": {
          "base_uri": "https://localhost:8080/"
        },
        "id": "27JBkncxqE2N",
        "outputId": "bf522696-902c-4c1a-8524-e93ad7ba2c1e"
      },
      "source": [
        "for i in range(w):\n",
        "    for j in range(h):\n",
        "        horizontal_gradient1[i][j] = j\n",
        "        horizontal_gradient2[i][j] = i\n",
        "\n",
        "print(horizontal_gradient1, f'\\n{\"-\"*40}\\n', horizontal_gradient2)"
      ],
      "execution_count": null,
      "outputs": [
        {
          "output_type": "stream",
          "text": [
            "[[  0.   1.   2. ... 252. 253. 254.]\n",
            " [  0.   1.   2. ... 252. 253. 254.]\n",
            " [  0.   1.   2. ... 252. 253. 254.]\n",
            " ...\n",
            " [  0.   1.   2. ... 252. 253. 254.]\n",
            " [  0.   1.   2. ... 252. 253. 254.]\n",
            " [  0.   1.   2. ... 252. 253. 254.]] \n",
            "----------------------------------------\n",
            " [[  0.   0.   0. ...   0.   0.   0.]\n",
            " [  1.   1.   1. ...   1.   1.   1.]\n",
            " [  2.   2.   2. ...   2.   2.   2.]\n",
            " ...\n",
            " [252. 252. 252. ... 252. 252. 252.]\n",
            " [253. 253. 253. ... 253. 253. 253.]\n",
            " [254. 254. 254. ... 254. 254. 254.]]\n"
          ],
          "name": "stdout"
        }
      ]
    },
    {
      "cell_type": "code",
      "metadata": {
        "colab": {
          "base_uri": "https://localhost:8080/",
          "height": 272
        },
        "id": "w0U3eC9YqdRH",
        "outputId": "a88037fa-4f93-4eba-dd90-f9958926eadf"
      },
      "source": [
        "i = cv2.imwrite('horizontal_grad1.jpg', horizontal_gradient1)\n",
        "img = cv2.imread('horizontal_grad1.jpg', cv2.IMREAD_UNCHANGED)\n",
        "cv2_imshow(img)"
      ],
      "execution_count": null,
      "outputs": [
        {
          "output_type": "display_data",
          "data": {
            "image/png": "[encoded data removed]",
            "text/plain": [
              "<PIL.Image.Image image mode=L size=255x255 at 0x7F4C00194290>"
            ]
          },
          "metadata": {
            "tags": []
          }
        }
      ]
    },
    {
      "cell_type": "code",
      "metadata": {
        "colab": {
          "base_uri": "https://localhost:8080/",
          "height": 272
        },
        "id": "czVyiTNR203-",
        "outputId": "a3f2ec36-3779-4be2-e19e-eb50f444d1ff"
      },
      "source": [
        "i = cv2.imwrite('horizontal_grad2.jpg', horizontal_gradient2)\n",
        "img = cv2.imread('horizontal_grad2.jpg', cv2.IMREAD_UNCHANGED)\n",
        "cv2_imshow(img)"
      ],
      "execution_count": null,
      "outputs": [
        {
          "output_type": "display_data",
          "data": {
            "image/png": "[encoded data removed]",
            "text/plain": [
              "<PIL.Image.Image image mode=L size=255x255 at 0x7F4C00234F90>"
            ]
          },
          "metadata": {
            "tags": []
          }
        }
      ]
    },
    {
      "cell_type": "code",
      "metadata": {
        "colab": {
          "base_uri": "https://localhost:8080/",
          "height": 272
        },
        "id": "lstprbb83ADd",
        "outputId": "2508b7c1-cb3a-4ecb-f305-6288fc4fae5d"
      },
      "source": [
        "i = cv2.imwrite('horizontal_grad3.jpg', horizontal_gradient1.transpose())\n",
        "img = cv2.imread('horizontal_grad3.jpg', cv2.IMREAD_UNCHANGED)\n",
        "cv2_imshow(img)"
      ],
      "execution_count": null,
      "outputs": [
        {
          "output_type": "display_data",
          "data": {
            "image/png": "[encoded data removed]",
            "text/plain": [
              "<PIL.Image.Image image mode=L size=255x255 at 0x7F4C0012ED50>"
            ]
          },
          "metadata": {
            "tags": []
          }
        }
      ]
    }
  ]
}